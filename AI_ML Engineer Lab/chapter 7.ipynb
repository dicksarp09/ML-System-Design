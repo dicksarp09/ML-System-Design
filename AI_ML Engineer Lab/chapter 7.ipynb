{
 "cells": [
  {
   "cell_type": "markdown",
   "id": "c339cc1e-1b70-44c4-b7a3-092a364e8d17",
   "metadata": {},
   "source": [
    "### Docker.model_a"
   ]
  },
  {
   "cell_type": "code",
   "execution_count": null,
   "id": "bd3e5573-959c-419d-93e0-6f9f1274dd64",
   "metadata": {},
   "outputs": [],
   "source": [
    "# Dockerfile.model_a\n",
    "FROM python:3.10-slim\n",
    "\n",
    "WORKDIR /app\n",
    "\n",
    "COPY model_a.py /app/\n",
    "\n",
    "RUN pip install fastapi uvicorn httpx\n",
    "\n",
    "EXPOSE 8001\n",
    "\n",
    "CMD [\"uvicorn\", \"model_a:app\", \"--host\", \"0.0.0.0\", \"--port\", \"8001\"]\n"
   ]
  },
  {
   "cell_type": "markdown",
   "id": "4b92da02-cf32-4a9b-a7dd-abecf3365802",
   "metadata": {},
   "source": [
    "### Dockerfile.model_b"
   ]
  },
  {
   "cell_type": "code",
   "execution_count": null,
   "id": "117af68e-5df3-4629-b09b-2f94babebae3",
   "metadata": {},
   "outputs": [],
   "source": [
    "# Dockerfile.model_b\n",
    "FROM python:3.10-slim\n",
    "\n",
    "WORKDIR /app\n",
    "\n",
    "COPY model_b.py /app/\n",
    "\n",
    "RUN pip install fastapi uvicorn httpx\n",
    "\n",
    "EXPOSE 8002\n",
    "\n",
    "CMD [\"uvicorn\", \"model_b:app\", \"--host\", \"0.0.0.0\", \"--port\", \"8002\"]\n"
   ]
  },
  {
   "cell_type": "markdown",
   "id": "dea25f9d-3233-4327-a398-c12fd9045591",
   "metadata": {},
   "source": [
    "### Dockerfile.model_b"
   ]
  },
  {
   "cell_type": "code",
   "execution_count": null,
   "id": "ea8f9f7b-d272-481f-b58a-5f81387dc0e5",
   "metadata": {},
   "outputs": [],
   "source": [
    "# Dockerfile.model_c\n",
    "FROM python:3.10-slim\n",
    "\n",
    "WORKDIR /app\n",
    "\n",
    "COPY model_c.py /app/\n",
    "\n",
    "RUN pip install fastapi uvicorn httpx\n",
    "\n",
    "EXPOSE 8003\n",
    "\n",
    "CMD [\"uvicorn\", \"model_c:app\", \"--host\", \"0.0.0.0\", \"--port\", \"8003\"]\n"
   ]
  },
  {
   "cell_type": "markdown",
   "id": "dd11bfd3-0424-458c-9e9e-7c7ef38a373d",
   "metadata": {},
   "source": [
    "### Dockerfile.model_supervisor"
   ]
  },
  {
   "cell_type": "code",
   "execution_count": null,
   "id": "319978f1-cc70-432f-99ce-61a2744f4a55",
   "metadata": {},
   "outputs": [],
   "source": [
    "# Dockerfile.model_supervisor\n",
    "FROM python:3.10-slim\n",
    "\n",
    "WORKDIR /app\n",
    "\n",
    "COPY model_supervisor.py client.py /app/\n",
    "\n",
    "RUN pip install fastapi uvicorn httpx\n",
    "\n",
    "EXPOSE 8000\n",
    "\n",
    "CMD [\"uvicorn\", \"model_supervisor:app\", \"--host\", \"0.0.0.0\", \"--port\", \"8000\"]\n"
   ]
  },
  {
   "cell_type": "markdown",
   "id": "4871973b-e28c-427f-a9bb-7478f0a88923",
   "metadata": {
    "tags": []
   },
   "source": [
    "### docker-compose.yml"
   ]
  },
  {
   "cell_type": "code",
   "execution_count": null,
   "id": "0dd45577-5b10-407d-abd0-0226ce60ae6b",
   "metadata": {},
   "outputs": [],
   "source": [
    "version: '3.8'\n",
    "\n",
    "services:\n",
    "  model_a:\n",
    "    build:\n",
    "      context: .\n",
    "      dockerfile: Dockerfile.model_a\n",
    "    ports:\n",
    "      - \"8001:8001\"\n",
    "\n",
    "  model_b:\n",
    "    build:\n",
    "      context: .\n",
    "      dockerfile: Dockerfile.model_b\n",
    "    ports:\n",
    "      - \"8002:8002\"\n",
    "\n",
    "  model_c:\n",
    "    build:\n",
    "      context: .\n",
    "      dockerfile: Dockerfile.model_c\n",
    "    ports:\n",
    "      - \"8003:8003\"\n",
    "\n",
    "  model_supervisor:\n",
    "    build:\n",
    "      context: .\n",
    "      dockerfile: Dockerfile.model_supervisor\n",
    "    ports:\n",
    "      - \"8000:8000\"\n",
    "    depends_on:\n",
    "      - model_a\n",
    "      - model_b\n",
    "      - model_c\n"
   ]
  }
 ],
 "metadata": {
  "kernelspec": {
   "display_name": "Python 3 (ipykernel)",
   "language": "python",
   "name": "python3"
  },
  "language_info": {
   "codemirror_mode": {
    "name": "ipython",
    "version": 3
   },
   "file_extension": ".py",
   "mimetype": "text/x-python",
   "name": "python",
   "nbconvert_exporter": "python",
   "pygments_lexer": "ipython3",
   "version": "3.11.3"
  }
 },
 "nbformat": 4,
 "nbformat_minor": 5
}

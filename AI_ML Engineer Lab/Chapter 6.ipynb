{
 "cells": [
  {
   "cell_type": "markdown",
   "id": "dc253a7d-dd07-4d88-b010-73b37aa6e729",
   "metadata": {},
   "source": [
    "# 1. Models microservices"
   ]
  },
  {
   "cell_type": "code",
   "execution_count": null,
   "id": "ac24bb2d-82a0-4949-b128-4bc30341a0d3",
   "metadata": {},
   "outputs": [],
   "source": [
    "# model_a.py\n",
    "from fastapi import FastAPI\n",
    "app = FastAPI()\n",
    "\n",
    "@app.get(\"/a/{input_data}\")\n",
    "async def predict(input_data: str):\n",
    "    return {\"model\": \"A\", \"input\": input_data, \"prediction\": True}\n",
    "\n",
    "# model_b.py\n",
    "from fastapi import FastAPI\n",
    "app = FastAPI()\n",
    "\n",
    "@app.get(\"/b/{input_data}\")\n",
    "async def predict(input_data: str):\n",
    "    return {\"model\": \"B\", \"input\": input_data, \"prediction\": False}\n",
    "\n",
    "# model_c.py\n",
    "from fastapi import FastAPI, HTTPException\n",
    "import random\n",
    "app = FastAPI()\n",
    "\n",
    "@app.get(\"/c/{input_data}\")\n",
    "async def predict(input_data: str):\n",
    "    if random.choice([True, False]):\n",
    "        return {\"model\": \"C\", \"input\": input_data, \"prediction\": True}\n",
    "    else:\n",
    "        raise HTTPException(status_code=400, detail=\"Model C failed to predict\")\n"
   ]
  },
  {
   "cell_type": "markdown",
   "id": "00c5de08-130e-4b3a-8517-6772d04c80d9",
   "metadata": {},
   "source": [
    "# 2. Client with retries"
   ]
  },
  {
   "cell_type": "code",
   "execution_count": null,
   "id": "30f38b14-1636-4e5b-94bf-4a85d5474c2f",
   "metadata": {},
   "outputs": [],
   "source": [
    "# client.py\n",
    "import httpx\n",
    "import asyncio\n",
    "\n",
    "async def call_model(model: str, input_data: str):\n",
    "    port_map = {\"a\": 8001, \"b\": 8002, \"c\": 8003}\n",
    "    url = f\"http://localhost:{port_map[model]}/{model}/{input_data}\"\n",
    "    async with httpx.AsyncClient() as client:\n",
    "        for attempt in range(3):  # Retry up to 3 times\n",
    "            try:\n",
    "                response = await client.get(url)\n",
    "                response.raise_for_status()\n",
    "                return response.json()\n",
    "            except (httpx.HTTPError, httpx.RequestError) as e:\n",
    "                print(f\"Attempt {attempt + 1} failed for model {model}: {e}\")\n",
    "                await asyncio.sleep(1)\n",
    "        raise Exception(f\"Failed to get successful response from model {model} after 3 attempts.\")\n"
   ]
  },
  {
   "cell_type": "markdown",
   "id": "0bb3b82e-8fd0-45da-9d8f-a6444d3222d9",
   "metadata": {},
   "source": [
    "# 3. Model Server & Supervisor (Routing API)"
   ]
  },
  {
   "cell_type": "code",
   "execution_count": null,
   "id": "3a943833-b208-4dd7-86bd-a7b0391551d1",
   "metadata": {},
   "outputs": [],
   "source": [
    "# model_supervisor.py\n",
    "from fastapi import FastAPI, HTTPException\n",
    "import asyncio\n",
    "from client import call_model\n",
    "\n",
    "app = FastAPI()\n",
    "\n",
    "@app.get(\"/api/predict/{input_data}\")\n",
    "async def predict(input_data: str):\n",
    "    h = hash(input_data) % 10\n",
    "    if h < 4:\n",
    "        model = \"a\"\n",
    "    elif h < 6:\n",
    "        model = \"b\"\n",
    "    else:\n",
    "        model = \"c\"\n",
    "    try:\n",
    "        result = await call_model(model, input_data)\n",
    "        return result\n",
    "    except Exception as e:\n",
    "        raise HTTPException(status_code=400, detail=str(e))\n",
    " ##\n"
   ]
  }
 ],
 "metadata": {
  "kernelspec": {
   "display_name": "Python 3 (ipykernel)",
   "language": "python",
   "name": "python3"
  },
  "language_info": {
   "codemirror_mode": {
    "name": "ipython",
    "version": 3
   },
   "file_extension": ".py",
   "mimetype": "text/x-python",
   "name": "python",
   "nbconvert_exporter": "python",
   "pygments_lexer": "ipython3",
   "version": "3.11.3"
  }
 },
 "nbformat": 4,
 "nbformat_minor": 5
}

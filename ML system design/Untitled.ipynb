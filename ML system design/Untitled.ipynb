{
 "cells": [
  {
   "cell_type": "code",
   "execution_count": 4,
   "id": "85268186-369c-42cd-85a7-dca38ec17d3d",
   "metadata": {
    "tags": []
   },
   "outputs": [
    {
     "name": "stdout",
     "output_type": "stream",
     "text": [
      "200\n",
      "{'passed': 1}\n"
     ]
    }
   ],
   "source": [
    "import requests\n",
    "\n",
    "url = \"http://127.0.0.1:5000/predict\"\n",
    "\n",
    "student_data = {\n",
    "    \"school\": \"GP\",\n",
    "    \"sex\": \"F\",\n",
    "    \"age\": 17,\n",
    "    \"address\": \"U\",\n",
    "    \"famsize\": \"GT3\",\n",
    "    \"Pstatus\": \"T\",\n",
    "    \"Medu\": 4,\n",
    "    \"Fedu\": 4,\n",
    "    \"Mjob\": \"at_home\",\n",
    "    \"Fjob\": \"teacher\",\n",
    "    \"reason\": \"course\",\n",
    "    \"guardian\": \"mother\",\n",
    "    \"traveltime\": 2,\n",
    "    \"studytime\": 2,\n",
    "    \"failures\": 0,\n",
    "    \"schoolsup\": \"no\",\n",
    "    \"famsup\": \"yes\",\n",
    "    \"paid\": \"no\",\n",
    "    \"activities\": \"yes\",\n",
    "    \"nursery\": \"yes\",\n",
    "    \"higher\": \"yes\",\n",
    "    \"internet\": \"yes\",\n",
    "    \"romantic\": \"no\",\n",
    "    \"famrel\": 4,\n",
    "    \"freetime\": 3,\n",
    "    \"goout\": 3,\n",
    "    \"Dalc\": 1,\n",
    "    \"Walc\": 2,\n",
    "    \"health\": 5,\n",
    "    \"absences\": 4,\n",
    "    \"G1\": 10,\n",
    "    \"G2\": 11,\n",
    "    \"G3\": 11,\n",
    "    \"dataset\": \"math\"\n",
    "}\n",
    "\n",
    "response = requests.post(url, json=student_data)\n",
    "print(response.status_code)\n",
    "print(response.json())\n"
   ]
  },
  {
   "cell_type": "code",
   "execution_count": 5,
   "id": "4e7fb121-57a8-419f-bffe-a8b320212b66",
   "metadata": {},
   "outputs": [
    {
     "name": "stdout",
     "output_type": "stream",
     "text": [
      "[1]\n"
     ]
    }
   ],
   "source": [
    "import pandas as pd\n",
    "import joblib\n",
    "\n",
    "model = joblib.load(\"performance_pipeline.pkl\")\n",
    "sample = pd.DataFrame([student_data])\n",
    "prediction = model.predict(sample)\n",
    "print(prediction)\n"
   ]
  },
  {
   "cell_type": "code",
   "execution_count": 6,
   "id": "ba06dbf0-1d88-408c-8a32-24631f9f4663",
   "metadata": {
    "tags": []
   },
   "outputs": [
    {
     "name": "stdout",
     "output_type": "stream",
     "text": [
      "[1]\n"
     ]
    }
   ],
   "source": [
    "import pandas as pd\n",
    "import joblib\n",
    "\n",
    "model = joblib.load(\"performance_pipeline.pkl\")\n",
    "sample = pd.DataFrame([student_data])\n",
    "print(model.predict(sample))\n"
   ]
  },
  {
   "cell_type": "code",
   "execution_count": null,
   "id": "6dd2c4c7-03f8-427a-802b-caa87d4c3c9b",
   "metadata": {},
   "outputs": [],
   "source": []
  }
 ],
 "metadata": {
  "kernelspec": {
   "display_name": "Python 3 (ipykernel)",
   "language": "python",
   "name": "python3"
  },
  "language_info": {
   "codemirror_mode": {
    "name": "ipython",
    "version": 3
   },
   "file_extension": ".py",
   "mimetype": "text/x-python",
   "name": "python",
   "nbconvert_exporter": "python",
   "pygments_lexer": "ipython3",
   "version": "3.11.3"
  }
 },
 "nbformat": 4,
 "nbformat_minor": 5
}
